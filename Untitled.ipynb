{
 "cells": [
  {
   "cell_type": "code",
   "execution_count": 4,
   "metadata": {},
   "outputs": [
    {
     "data": {
      "text/plain": [
       "([0.0,\n",
       "  0.5,\n",
       "  1.0,\n",
       "  1.5,\n",
       "  2.0,\n",
       "  2.5,\n",
       "  3.0,\n",
       "  3.5,\n",
       "  4.0,\n",
       "  4.5,\n",
       "  5.0,\n",
       "  5.5,\n",
       "  6.0,\n",
       "  6.5,\n",
       "  7.0,\n",
       "  7.5,\n",
       "  8.0,\n",
       "  8.5,\n",
       "  9.0,\n",
       "  9.5],\n",
       " [1.0,\n",
       "  0.77880078307140488,\n",
       "  0.36787944117144467,\n",
       "  0.10539922456259311,\n",
       "  0.018315639027613618,\n",
       "  0.0019304701885082612,\n",
       "  0.00012453515583387215,\n",
       "  5.2636291313419095e-05,\n",
       "  0.0012342105760415147,\n",
       "  0.019304542967505146,\n",
       "  0.18315638890122973,\n",
       "  1.0539922456187161,\n",
       "  3.6787944117144238,\n",
       "  7.788007830714049,\n",
       "  10.0,\n",
       "  7.788007830714049,\n",
       "  3.6787944117144233,\n",
       "  1.0539922456186432,\n",
       "  0.18315638888734179,\n",
       "  0.019304541362277092])"
      ]
     },
     "execution_count": 4,
     "metadata": {},
     "output_type": "execute_result"
    },
    {
     "data": {
      "image/png": "[encoded data removed]",
      "text/plain": [
       "<matplotlib.figure.Figure at 0x7f6dc48df438>"
      ]
     },
     "metadata": {},
     "output_type": "display_data"
    }
   ],
   "source": [
    "import matplotlib.pyplot as plt\n",
    "plt.ion()\n",
    "class DynamicUpdate():\n",
    "    #Suppose we know the x range\n",
    "    min_x = 0\n",
    "    max_x = 10\n",
    "\n",
    "    def on_launch(self):\n",
    "        #Set up plot\n",
    "        self.figure, self.ax = plt.subplots()\n",
    "        self.lines, = self.ax.plot([],[], 'o')\n",
    "        #Autoscale on unknown axis and known lims on the other\n",
    "        self.ax.set_autoscaley_on(True)\n",
    "        self.ax.set_xlim(self.min_x, self.max_x)\n",
    "        #Other stuff\n",
    "        self.ax.grid()\n",
    "        ...\n",
    "\n",
    "    def on_running(self, xdata, ydata):\n",
    "        #Update data (with the new _and_ the old points)\n",
    "        self.lines.set_xdata(xdata)\n",
    "        self.lines.set_ydata(ydata)\n",
    "        #Need both of these in order to rescale\n",
    "        self.ax.relim()\n",
    "        self.ax.autoscale_view()\n",
    "        #We need to draw *and* flush\n",
    "        self.figure.canvas.draw()\n",
    "        self.figure.canvas.flush_events()\n",
    "\n",
    "    #Example\n",
    "    def __call__(self):\n",
    "        import numpy as np\n",
    "        import time\n",
    "        self.on_launch()\n",
    "        xdata = []\n",
    "        ydata = []\n",
    "        for x in np.arange(0,10,0.5):\n",
    "            xdata.append(x)\n",
    "            ydata.append(np.exp(-x**2)+10*np.exp(-(x-7)**2))\n",
    "            self.on_running(xdata, ydata)\n",
    "            time.sleep(1)\n",
    "        return xdata, ydata\n",
    "\n",
    "d = DynamicUpdate()\n",
    "d()"
   ]
  },
  {
   "cell_type": "code",
   "execution_count": null,
   "metadata": {
    "collapsed": true
   },
   "outputs": [],
   "source": []
  }
 ],
 "metadata": {
  "kernelspec": {
   "display_name": "Python 3",
   "language": "python",
   "name": "python3"
  },
  "language_info": {
   "codemirror_mode": {
    "name": "ipython",
    "version": 3
   },
   "file_extension": ".py",
   "mimetype": "text/x-python",
   "name": "python",
   "nbconvert_exporter": "python",
   "pygments_lexer": "ipython3",
   "version": "3.6.3"
  }
 },
 "nbformat": 4,
 "nbformat_minor": 2
}
